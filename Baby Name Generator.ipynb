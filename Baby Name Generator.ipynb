{
 "cells": [
  {
   "cell_type": "code",
   "execution_count": 82,
   "metadata": {},
   "outputs": [],
   "source": [
    "import pandas as pd\n",
    "import numpy as np\n",
    "import os\n",
    "import string\n",
    "from tqdm.notebook import tqdm\n",
    "import tensorflow as tf"
   ]
  },
  {
   "cell_type": "code",
   "execution_count": 78,
   "metadata": {},
   "outputs": [
    {
     "data": {
      "text/plain": [
       "'2.1.1'"
      ]
     },
     "execution_count": 78,
     "metadata": {},
     "output_type": "execute_result"
    }
   ],
   "source": [
    "tf.__version__"
   ]
  },
  {
   "cell_type": "code",
   "execution_count": 7,
   "metadata": {},
   "outputs": [
    {
     "name": "stdout",
     "output_type": "stream",
     "text": [
      "['dataset/yob1880.txt', 'dataset/yob1881.txt', 'dataset/yob1882.txt', 'dataset/yob1883.txt', 'dataset/yob1884.txt']\n"
     ]
    }
   ],
   "source": [
    "data_dir = 'dataset/'\n",
    "file_names = [data_dir + i for i in os.listdir(data_dir)]\n",
    "print(file_names[:5])"
   ]
  },
  {
   "cell_type": "code",
   "execution_count": 17,
   "metadata": {},
   "outputs": [],
   "source": [
    "name_counts_dict = {}\n",
    "total_names = 0\n",
    "\n",
    "for fname in file_names:\n",
    "    with open(fname) as f:\n",
    "        lines = f.readlines()\n",
    "        for line in lines:\n",
    "            name, gender, count = line.split(',')\n",
    "            count = int(count.strip('\\n'))\n",
    "            if gender.upper() == \"F\":\n",
    "                if name in name_counts_dict:\n",
    "                    name_counts_dict[name] += count\n",
    "                else:\n",
    "                    name_counts_dict[name] = count\n",
    "                total_names += count\n",
    "\n",
    "            "
   ]
  },
  {
   "cell_type": "code",
   "execution_count": 23,
   "metadata": {},
   "outputs": [],
   "source": [
    "df = pd.DataFrame(name_counts_dict.items(), columns=['Name', 'Count'])"
   ]
  },
  {
   "cell_type": "code",
   "execution_count": 31,
   "metadata": {},
   "outputs": [
    {
     "data": {
      "text/html": [
       "<div>\n",
       "<style scoped>\n",
       "    .dataframe tbody tr th:only-of-type {\n",
       "        vertical-align: middle;\n",
       "    }\n",
       "\n",
       "    .dataframe tbody tr th {\n",
       "        vertical-align: top;\n",
       "    }\n",
       "\n",
       "    .dataframe thead th {\n",
       "        text-align: right;\n",
       "    }\n",
       "</style>\n",
       "<table border=\"1\" class=\"dataframe\">\n",
       "  <thead>\n",
       "    <tr style=\"text-align: right;\">\n",
       "      <th></th>\n",
       "      <th>Name</th>\n",
       "      <th>Count</th>\n",
       "      <th>Normalized_Count</th>\n",
       "    </tr>\n",
       "  </thead>\n",
       "  <tbody>\n",
       "    <tr>\n",
       "      <th>0</th>\n",
       "      <td>Mary</td>\n",
       "      <td>4128052</td>\n",
       "      <td>0.023486</td>\n",
       "    </tr>\n",
       "    <tr>\n",
       "      <th>3</th>\n",
       "      <td>Elizabeth</td>\n",
       "      <td>1646385</td>\n",
       "      <td>0.009367</td>\n",
       "    </tr>\n",
       "    <tr>\n",
       "      <th>1412</th>\n",
       "      <td>Patricia</td>\n",
       "      <td>1572330</td>\n",
       "      <td>0.008945</td>\n",
       "    </tr>\n",
       "    <tr>\n",
       "      <th>6803</th>\n",
       "      <td>Jennifer</td>\n",
       "      <td>1468017</td>\n",
       "      <td>0.008352</td>\n",
       "    </tr>\n",
       "    <tr>\n",
       "      <th>304</th>\n",
       "      <td>Linda</td>\n",
       "      <td>1453065</td>\n",
       "      <td>0.008267</td>\n",
       "    </tr>\n",
       "  </tbody>\n",
       "</table>\n",
       "</div>"
      ],
      "text/plain": [
       "           Name    Count  Normalized_Count\n",
       "0          Mary  4128052          0.023486\n",
       "3     Elizabeth  1646385          0.009367\n",
       "1412   Patricia  1572330          0.008945\n",
       "6803   Jennifer  1468017          0.008352\n",
       "304       Linda  1453065          0.008267"
      ]
     },
     "execution_count": 31,
     "metadata": {},
     "output_type": "execute_result"
    }
   ],
   "source": [
    "df = df.sort_values(by=\"Count\", ascending=False)\n",
    "df['Normalized_Count'] = df.Count / total_names\n",
    "df.head()"
   ]
  },
  {
   "cell_type": "code",
   "execution_count": 73,
   "metadata": {},
   "outputs": [],
   "source": [
    "c2i = {}  # character => index\n",
    "i2c = {}  # index => char\n",
    "\n",
    "for index, char in enumerate(string.ascii_letters):\n",
    "    c2i[char] = index\n",
    "    i2c[index] = char"
   ]
  },
  {
   "cell_type": "code",
   "execution_count": 83,
   "metadata": {},
   "outputs": [
    {
     "data": {
      "application/vnd.jupyter.widget-view+json": {
       "model_id": "805cab543ef8497caf8c308aa7c9f327",
       "version_major": 2,
       "version_minor": 0
      },
      "text/plain": [
       "HBox(children=(FloatProgress(value=1.0, bar_style='info', max=1.0), HTML(value='')))"
      ]
     },
     "metadata": {},
     "output_type": "display_data"
    },
    {
     "name": "stdout",
     "output_type": "stream",
     "text": [
      "\n"
     ]
    }
   ],
   "source": [
    "# upscale dataset to 250k names, weighted according to the normalized count\n",
    "processed_dataset = []\n",
    "for row in tqdm(df.itertuples()):\n",
    "    name = row[1]\n",
    "    pct = row[3]\n",
    "    num_data_points = int(250000 * pct)\n",
    "    index_series = np.array([c2i[char] / 52 for char in name]).astype('float32') # len(a-z + A-Z) = 52\n",
    "    upscaled_data_for_name = [index_series for _ in range(num_data_points)]\n",
    "    processed_dataset += upscaled_data_for_name"
   ]
  },
  {
   "cell_type": "code",
   "execution_count": 103,
   "metadata": {},
   "outputs": [],
   "source": [
    "# shuffle the data\n",
    "for _ in range(5):\n",
    "    np.random.shuffle(processed_dataset)"
   ]
  },
  {
   "cell_type": "code",
   "execution_count": null,
   "metadata": {},
   "outputs": [],
   "source": []
  },
  {
   "cell_type": "code",
   "execution_count": null,
   "metadata": {},
   "outputs": [],
   "source": []
  }
 ],
 "metadata": {
  "kernelspec": {
   "display_name": "Python 3",
   "language": "python",
   "name": "python3"
  },
  "language_info": {
   "codemirror_mode": {
    "name": "ipython",
    "version": 3
   },
   "file_extension": ".py",
   "mimetype": "text/x-python",
   "name": "python",
   "nbconvert_exporter": "python",
   "pygments_lexer": "ipython3",
   "version": "3.7.6"
  }
 },
 "nbformat": 4,
 "nbformat_minor": 4
}
